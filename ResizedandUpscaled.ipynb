{
  "nbformat": 4,
  "nbformat_minor": 0,
  "metadata": {
    "colab": {
      "provenance": [],
      "authorship_tag": "ABX9TyPXYUgvmim80AIBDOJskBD/",
      "include_colab_link": true
    },
    "kernelspec": {
      "name": "python3",
      "display_name": "Python 3"
    },
    "language_info": {
      "name": "python"
    }
  },
  "cells": [
    {
      "cell_type": "markdown",
      "metadata": {
        "id": "view-in-github",
        "colab_type": "text"
      },
      "source": [
        "<a href=\"https://colab.research.google.com/github/Bongbong12/CitraDigital/blob/main/ResizedandUpscaled.ipynb\" target=\"_parent\"><img src=\"https://colab.research.google.com/assets/colab-badge.svg\" alt=\"Open In Colab\"/></a>"
      ]
    },
    {
      "cell_type": "code",
      "execution_count": 4,
      "metadata": {
        "id": "t50kBiMX0R5U"
      },
      "outputs": [],
      "source": [
        "from PIL import Image\n",
        "\n",
        "# Load the 4K image\n",
        "img_path = 'my_image_4k.jpg'  # Ensure this file is in the same directory\n",
        "img = Image.open(img_path)\n",
        "\n",
        "# Resize the image to 128x128\n",
        "img_resized = img.resize((128, 128))\n",
        "\n",
        "# Save the resized image\n",
        "img_resized.save('resized_image_128x128.jpg')\n",
        "\n",
        "# Display the resized image\n",
        "img_resized.show()\n",
        "\n",
        "# Load the 128x128 image\n",
        "img_path_128 = 'resized_image_128x128.jpg'\n",
        "img_128 = Image.open(img_path_128)\n",
        "\n",
        "# Upscale the image to 4K (3840x2160)\n",
        "img_upscaled = img_128.resize((3840, 2160))\n",
        "\n",
        "# Save the upscaled image\n",
        "img_upscaled.save('upscaled_image_4K.jpg')\n",
        "\n",
        "# Display the upscaled image\n",
        "img_upscaled.show()"
      ]
    }
  ]
}