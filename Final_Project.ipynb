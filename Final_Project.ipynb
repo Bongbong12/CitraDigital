{
  "nbformat": 4,
  "nbformat_minor": 0,
  "metadata": {
    "colab": {
      "provenance": [],
      "authorship_tag": "ABX9TyOpMQQKHSy1gLDN78ZbOEWm",
      "include_colab_link": true
    },
    "kernelspec": {
      "name": "python3",
      "display_name": "Python 3"
    },
    "language_info": {
      "name": "python"
    }
  },
  "cells": [
    {
      "cell_type": "markdown",
      "metadata": {
        "id": "view-in-github",
        "colab_type": "text"
      },
      "source": [
        "<a href=\"https://colab.research.google.com/github/Bongbong12/CitraDigital/blob/main/Final_Project.ipynb\" target=\"_parent\"><img src=\"https://colab.research.google.com/assets/colab-badge.svg\" alt=\"Open In Colab\"/></a>"
      ]
    },
    {
      "cell_type": "code",
      "execution_count": 5,
      "metadata": {
        "id": "EpfFxdvONIqg",
        "colab": {
          "base_uri": "https://localhost:8080/"
        },
        "outputId": "a7d09eb2-a16f-4be1-d882-724f8310bed3"
      },
      "outputs": [
        {
          "output_type": "stream",
          "name": "stdout",
          "text": [
            "Pesan tersembunyi: hi\n"
          ]
        }
      ],
      "source": [
        "from PIL import Image\n",
        "\n",
        "# Membuka gambar\n",
        "image = Image.open('cover_image.jpg')\n",
        "image.show()\n",
        "\n",
        "def encode_message(image, message):\n",
        "    binary_message = ''.join(format(ord(char), '08b') for char in message)\n",
        "    binary_message += '1111111111111110'  # Menambahkan delimiter untuk menandai akhir pesan\n",
        "    pixels = image.load()\n",
        "    index = 0\n",
        "\n",
        "    for i in range(image.size[0]):\n",
        "        for j in range(image.size[1]):\n",
        "            r, g, b = pixels[i, j]\n",
        "            if index < len(binary_message):\n",
        "                r = (r & ~1) | int(binary_message[index])\n",
        "                index += 1\n",
        "            pixels[i, j] = (r, g, b)\n",
        "            if index >= len(binary_message):  # Jika pesan sudah disisipkan, keluar dari loop\n",
        "                break\n",
        "        if index >= len(binary_message):\n",
        "            break\n",
        "    return image\n",
        "\n",
        "message = \"hi\"\n",
        "stego_image = encode_message(image, message)\n",
        "stego_image.save('stego_image.png')\n",
        "\n",
        "def decode_message(image):\n",
        "    pixels = image.load()\n",
        "    binary_message = ''\n",
        "    for i in range(image.size[0]):\n",
        "        for j in range(image.size[1]):\n",
        "            r, g, b = pixels[i, j]\n",
        "            binary_message += str(r & 1)\n",
        "\n",
        "    # Mencari delimiter untuk menandai akhir pesan\n",
        "    message = ''\n",
        "    for i in range(0, len(binary_message), 8):\n",
        "        byte = binary_message[i:i+8]\n",
        "        if byte == '11111111':  # Jika menemukan delimiter\n",
        "            break\n",
        "        message += chr(int(byte, 2))\n",
        "    return message\n",
        "\n",
        "extracted_message = decode_message(stego_image)\n",
        "print(\"Pesan tersembunyi:\", extracted_message)"
      ]
    }
  ]
}